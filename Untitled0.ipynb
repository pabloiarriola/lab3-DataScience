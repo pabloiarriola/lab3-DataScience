{
  "nbformat": 4,
  "nbformat_minor": 0,
  "metadata": {
    "colab": {
      "name": "Untitled0.ipynb",
      "version": "0.3.2",
      "provenance": [],
      "toc_visible": true,
      "include_colab_link": true
    },
    "kernelspec": {
      "name": "python3",
      "display_name": "Python 3"
    }
  },
  "cells": [
    {
      "cell_type": "markdown",
      "metadata": {
        "id": "view-in-github",
        "colab_type": "text"
      },
      "source": [
        "[View in Colaboratory](https://colab.research.google.com/github/pabloiarriola/lab3-DataScience/blob/master/Untitled0.ipynb)"
      ]
    },
    {
      "metadata": {
        "id": "sqn3nloH4rSu",
        "colab_type": "text"
      },
      "cell_type": "markdown",
      "source": [
        "# Laboratorio 3 Ejercicio 1\n"
      ]
    },
    {
      "metadata": {
        "id": "Ne49nnP34052",
        "colab_type": "code",
        "colab": {}
      },
      "cell_type": "code",
      "source": [
        "import pandas as pd\n",
        "import numpy as np\n",
        "import tensorflow as tf\n",
        "from google.colab import files\n",
        "import matplotlib.pyplot as plt"
      ],
      "execution_count": 0,
      "outputs": []
    },
    {
      "metadata": {
        "id": "V57fbo7A6CcX",
        "colab_type": "code",
        "colab": {}
      },
      "cell_type": "code",
      "source": [
        "!pip install -U -q PyDrive ## you will have install for every colab session\n",
        "from pydrive.auth import GoogleAuth\n",
        "from pydrive.drive import GoogleDrive\n",
        "from google.colab import auth\n",
        "from oauth2client.client import GoogleCredentials\n",
        "# 1. Authenticate and create the PyDrive client.\n",
        "auth.authenticate_user()\n",
        "gauth = GoogleAuth()\n",
        "gauth.credentials = GoogleCredentials.get_application_default()\n",
        "drive = GoogleDrive(gauth)"
      ],
      "execution_count": 0,
      "outputs": []
    },
    {
      "metadata": {
        "id": "uUo2NJ0g6DYY",
        "colab_type": "code",
        "colab": {
          "base_uri": "https://localhost:8080/",
          "height": 106
        },
        "outputId": "c691c22a-3fc5-47d8-edaf-a0a25b5250a0"
      },
      "cell_type": "code",
      "source": [
        "file_list = drive.ListFile({'q': \"'18C7EzsX9LetIhz9WuUV4Bd6yAeeaubMz' in parents and trashed=false\"}).GetList()\n",
        "for file1 in file_list:\n",
        "  print('title: %s, id: %s' % (file1['title'], file1['id']))"
      ],
      "execution_count": 4,
      "outputs": [
        {
          "output_type": "stream",
          "text": [
            "title: Github.ipynb, id: 1KYm-XUsbyn-RFeANDKDf1FrkMqCmFvTG\n",
            "title: DeepLearning.ipynb, id: 1DK9HGJwT4ax6NsA2cUVr1Hlz_OsI2T0l\n",
            "title: train.csv, id: 1PNwiiiKC8ziiCnlOYE6EPMNWC0BDdkuH\n",
            "title: test.csv, id: 1vdBec1A_SCu4v0r_SRqd5oqPVAkUYYyC\n",
            "title: sample_submission.csv, id: 1Zq7yOsJeedmfqmK2srbJU0rMvFkQEK_Q\n"
          ],
          "name": "stdout"
        }
      ]
    },
    {
      "metadata": {
        "id": "ytuNXmjN6KQK",
        "colab_type": "code",
        "colab": {}
      },
      "cell_type": "code",
      "source": [
        "test = drive.CreateFile({'id': '1vdBec1A_SCu4v0r_SRqd5oqPVAkUYYyC'})\n",
        "test.GetContentFile('test.csv')\n",
        "sample = drive.CreateFile({'id': '1Zq7yOsJeedmfqmK2srbJU0rMvFkQEK_Q'})\n",
        "sample.GetContentFile('sample.csv')\n",
        "train = drive.CreateFile({'id': '1PNwiiiKC8ziiCnlOYE6EPMNWC0BDdkuH'})\n",
        "train.GetContentFile('train.csv')"
      ],
      "execution_count": 0,
      "outputs": []
    }
  ]
}