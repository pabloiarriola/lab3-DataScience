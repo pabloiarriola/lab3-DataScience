{
  "nbformat": 4,
  "nbformat_minor": 0,
  "metadata": {
    "colab": {
      "name": "DeepLearning.ipynb",
      "version": "0.3.2",
      "provenance": [],
      "collapsed_sections": [],
      "include_colab_link": true
    },
    "kernelspec": {
      "display_name": "Python 3",
      "language": "python",
      "name": "python3"
    }
  },
  "cells": [
    {
      "cell_type": "markdown",
      "metadata": {
        "id": "view-in-github",
        "colab_type": "text"
      },
      "source": [
        "[View in Colaboratory](https://colab.research.google.com/github/pabloiarriola/lab3-DataScience/blob/master/DeepLearning.ipynb)"
      ]
    },
    {
      "metadata": {
        "id": "BXeKd2gMrv-s",
        "colab_type": "text"
      },
      "cell_type": "markdown",
      "source": [
        "# Laboratorio 3\n",
        "\n"
      ]
    },
    {
      "metadata": {
        "id": "LCnoNsRXvcSp",
        "colab_type": "text"
      },
      "cell_type": "markdown",
      "source": [
        "link para compartir: https://drive.google.com/drive/folders/18C7EzsX9LetIhz9WuUV4Bd6yAeeaubMz?usp=sharing "
      ]
    },
    {
      "metadata": {
        "id": "00yn_a8vrv-t",
        "colab_type": "code",
        "colab": {}
      },
      "cell_type": "code",
      "source": [
        "import pandas as pd\n",
        "import numpy as np\n",
        "import tensorflow as tf\n",
        "from google.colab import files\n",
        "import matplotlib.pyplot as plt"
      ],
      "execution_count": 0,
      "outputs": []
    },
    {
      "metadata": {
        "id": "k-HnUJejAv3E",
        "colab_type": "code",
        "colab": {}
      },
      "cell_type": "code",
      "source": [
        "# Parametros\n",
        "LEARNING_RATE = 0.001\n",
        "TRAINING_EPOCHS = 3000\n",
        "BATCH_SIZE = 100\n",
        "DISPLAY_STEP = 10\n",
        "DROPOUT_CONV = 0.8\n",
        "DROPOUT_HIDDEN = 0.6\n",
        "VALIDATION_SIZE = 2000      # Set to 0 to train on all available data"
      ],
      "execution_count": 0,
      "outputs": []
    },
    {
      "metadata": {
        "id": "VrIApMZjkv2t",
        "colab_type": "code",
        "colab": {}
      },
      "cell_type": "code",
      "source": [
        "!pip install -U -q PyDrive ## you will have install for every colab session\n",
        "from pydrive.auth import GoogleAuth\n",
        "from pydrive.drive import GoogleDrive\n",
        "from google.colab import auth\n",
        "from oauth2client.client import GoogleCredentials\n",
        "# 1. Authenticate and create the PyDrive client.\n",
        "auth.authenticate_user()\n",
        "gauth = GoogleAuth()\n",
        "gauth.credentials = GoogleCredentials.get_application_default()\n",
        "drive = GoogleDrive(gauth)"
      ],
      "execution_count": 0,
      "outputs": []
    },
    {
      "metadata": {
        "id": "dkb7cb6Pn94w",
        "colab_type": "code",
        "colab": {
          "base_uri": "https://localhost:8080/",
          "height": 106
        },
        "outputId": "1ab8fda3-0c9f-476e-b049-a54e32996813"
      },
      "cell_type": "code",
      "source": [
        "file_list = drive.ListFile({'q': \"'18C7EzsX9LetIhz9WuUV4Bd6yAeeaubMz' in parents and trashed=false\"}).GetList()\n",
        "for file1 in file_list:\n",
        "  print('title: %s, id: %s' % (file1['title'], file1['id']))"
      ],
      "execution_count": 11,
      "outputs": [
        {
          "output_type": "stream",
          "text": [
            "title: DeepLearning.ipynb, id: 1DK9HGJwT4ax6NsA2cUVr1Hlz_OsI2T0l\n",
            "title: Github.ipynb, id: 1KYm-XUsbyn-RFeANDKDf1FrkMqCmFvTG\n",
            "title: train.csv, id: 1PNwiiiKC8ziiCnlOYE6EPMNWC0BDdkuH\n",
            "title: test.csv, id: 1vdBec1A_SCu4v0r_SRqd5oqPVAkUYYyC\n",
            "title: sample_submission.csv, id: 1Zq7yOsJeedmfqmK2srbJU0rMvFkQEK_Q\n"
          ],
          "name": "stdout"
        }
      ]
    },
    {
      "metadata": {
        "id": "Gb8bMDcGq3Fl",
        "colab_type": "code",
        "colab": {}
      },
      "cell_type": "code",
      "source": [
        "test = drive.CreateFile({'id': '1vdBec1A_SCu4v0r_SRqd5oqPVAkUYYyC'})\n",
        "test.GetContentFile('test.csv')\n",
        "sample = drive.CreateFile({'id': '1Zq7yOsJeedmfqmK2srbJU0rMvFkQEK_Q'})\n",
        "sample.GetContentFile('sample.csv')\n",
        "train = drive.CreateFile({'id': '1PNwiiiKC8ziiCnlOYE6EPMNWC0BDdkuH'})\n",
        "train.GetContentFile('train.csv')"
      ],
      "execution_count": 0,
      "outputs": []
    },
    {
      "metadata": {
        "id": "8IDbtuHtrv-x",
        "colab_type": "text"
      },
      "cell_type": "markdown",
      "source": [
        "## Análisis Exploratorio\n"
      ]
    },
    {
      "metadata": {
        "id": "vJb8nDPlv1p4",
        "colab_type": "text"
      },
      "cell_type": "markdown",
      "source": [
        "Lo que sabemos: <br>\n",
        "*  Cada imagen tiene 28 píxeles de altura y 28 píxeles de ancho\n",
        "*  784 píxeles en total\n",
        "*  Valor entre 0 y 255 escala gris (0 es el mas blanco)\n",
        "* La imagen son letras\n",
        "* train.csv tiene 785 porque tiene una columna extra \"etiqueta\" con el digito del dibujo"
      ]
    },
    {
      "metadata": {
        "id": "Pn_pF7k5xeF-",
        "colab_type": "text"
      },
      "cell_type": "markdown",
      "source": [
        "---\n",
        "Cargamos los datos"
      ]
    },
    {
      "metadata": {
        "id": "6kD-fn2drv-y",
        "colab_type": "code",
        "colab": {}
      },
      "cell_type": "code",
      "source": [
        "test = pd.read_csv('test.csv')\n",
        "sample = pd.read_csv('sample.csv')\n",
        "train = pd.read_csv('train.csv')"
      ],
      "execution_count": 0,
      "outputs": []
    },
    {
      "metadata": {
        "id": "rNnNYGVAxjvC",
        "colab_type": "text"
      },
      "cell_type": "markdown",
      "source": [
        "---\n",
        "Miramos que tipo son los valores de pixeles"
      ]
    },
    {
      "metadata": {
        "id": "fjJ82mzsvgFp",
        "colab_type": "code",
        "colab": {
          "base_uri": "https://localhost:8080/",
          "height": 126
        },
        "outputId": "57281a0c-9849-4afb-ad35-ad59ae2b52b9"
      },
      "cell_type": "code",
      "source": [
        "test.dtypes.head()"
      ],
      "execution_count": 33,
      "outputs": [
        {
          "output_type": "execute_result",
          "data": {
            "text/plain": [
              "pixel0    int64\n",
              "pixel1    int64\n",
              "pixel2    int64\n",
              "pixel3    int64\n",
              "pixel4    int64\n",
              "dtype: object"
            ]
          },
          "metadata": {
            "tags": []
          },
          "execution_count": 33
        }
      ]
    },
    {
      "metadata": {
        "id": "q_W7PJoO0LoO",
        "colab_type": "code",
        "colab": {
          "base_uri": "https://localhost:8080/",
          "height": 35
        },
        "outputId": "86642e05-2e15-49e4-9323-ea8510890a13"
      },
      "cell_type": "code",
      "source": [
        "test.shape[1]"
      ],
      "execution_count": 34,
      "outputs": [
        {
          "output_type": "execute_result",
          "data": {
            "text/plain": [
              "784"
            ]
          },
          "metadata": {
            "tags": []
          },
          "execution_count": 34
        }
      ]
    },
    {
      "metadata": {
        "id": "-EY3uZqNyc4R",
        "colab_type": "text"
      },
      "cell_type": "markdown",
      "source": [
        "Encontramos que tiene 784 variables que es exactmanete como nos direon la informacion y que estan trabajando con enteros"
      ]
    },
    {
      "metadata": {
        "id": "7SBqHOTBx9At",
        "colab_type": "code",
        "colab": {
          "base_uri": "https://localhost:8080/",
          "height": 121
        },
        "outputId": "2ffce7e6-2fd4-4fe0-fb25-b674d7be2fa9"
      },
      "cell_type": "code",
      "source": [
        "train.dtypes.head()"
      ],
      "execution_count": 36,
      "outputs": [
        {
          "output_type": "execute_result",
          "data": {
            "text/plain": [
              "label     int64\n",
              "pixel0    int64\n",
              "pixel1    int64\n",
              "pixel2    int64\n",
              "pixel3    int64\n",
              "dtype: object"
            ]
          },
          "metadata": {
            "tags": []
          },
          "execution_count": 36
        }
      ]
    },
    {
      "metadata": {
        "id": "5pSeQUS90Sga",
        "colab_type": "code",
        "colab": {
          "base_uri": "https://localhost:8080/",
          "height": 35
        },
        "outputId": "bec12c3b-69e7-4504-9d2d-bdceee6ccfac"
      },
      "cell_type": "code",
      "source": [
        "train.shape[1]"
      ],
      "execution_count": 42,
      "outputs": [
        {
          "output_type": "execute_result",
          "data": {
            "text/plain": [
              "785"
            ]
          },
          "metadata": {
            "tags": []
          },
          "execution_count": 42
        }
      ]
    },
    {
      "metadata": {
        "id": "Cd1Tzhkm5DP3",
        "colab_type": "code",
        "colab": {
          "base_uri": "https://localhost:8080/",
          "height": 294
        },
        "outputId": "0323a194-aa7b-4435-ab28-035c4e943241"
      },
      "cell_type": "code",
      "source": [
        "train[['label']].describe()"
      ],
      "execution_count": 54,
      "outputs": [
        {
          "output_type": "execute_result",
          "data": {
            "text/html": [
              "<div>\n",
              "<style scoped>\n",
              "    .dataframe tbody tr th:only-of-type {\n",
              "        vertical-align: middle;\n",
              "    }\n",
              "\n",
              "    .dataframe tbody tr th {\n",
              "        vertical-align: top;\n",
              "    }\n",
              "\n",
              "    .dataframe thead th {\n",
              "        text-align: right;\n",
              "    }\n",
              "</style>\n",
              "<table border=\"1\" class=\"dataframe\">\n",
              "  <thead>\n",
              "    <tr style=\"text-align: right;\">\n",
              "      <th></th>\n",
              "      <th>label</th>\n",
              "    </tr>\n",
              "  </thead>\n",
              "  <tbody>\n",
              "    <tr>\n",
              "      <th>count</th>\n",
              "      <td>42000.000000</td>\n",
              "    </tr>\n",
              "    <tr>\n",
              "      <th>mean</th>\n",
              "      <td>4.456643</td>\n",
              "    </tr>\n",
              "    <tr>\n",
              "      <th>std</th>\n",
              "      <td>2.887730</td>\n",
              "    </tr>\n",
              "    <tr>\n",
              "      <th>min</th>\n",
              "      <td>0.000000</td>\n",
              "    </tr>\n",
              "    <tr>\n",
              "      <th>25%</th>\n",
              "      <td>2.000000</td>\n",
              "    </tr>\n",
              "    <tr>\n",
              "      <th>50%</th>\n",
              "      <td>4.000000</td>\n",
              "    </tr>\n",
              "    <tr>\n",
              "      <th>75%</th>\n",
              "      <td>7.000000</td>\n",
              "    </tr>\n",
              "    <tr>\n",
              "      <th>max</th>\n",
              "      <td>9.000000</td>\n",
              "    </tr>\n",
              "  </tbody>\n",
              "</table>\n",
              "</div>"
            ],
            "text/plain": [
              "              label\n",
              "count  42000.000000\n",
              "mean       4.456643\n",
              "std        2.887730\n",
              "min        0.000000\n",
              "25%        2.000000\n",
              "50%        4.000000\n",
              "75%        7.000000\n",
              "max        9.000000"
            ]
          },
          "metadata": {
            "tags": []
          },
          "execution_count": 54
        }
      ]
    },
    {
      "metadata": {
        "id": "aP1avox-6e-a",
        "colab_type": "code",
        "colab": {
          "base_uri": "https://localhost:8080/",
          "height": 382
        },
        "outputId": "886da3c4-028f-450e-aa26-9e9897a3c806"
      },
      "cell_type": "code",
      "source": [
        "print (\"Sesgado :\", (train[['label']].skew()))\n",
        "plt.hist(train[['label']], color='blue')\n",
        "plt.show()"
      ],
      "execution_count": 88,
      "outputs": [
        {
          "output_type": "stream",
          "text": [
            "Sesgado : label    0.026479\n",
            "dtype: float64\n"
          ],
          "name": "stdout"
        },
        {
          "output_type": "display_data",
          "data": {
            "image/png": "[encoded data removed]",
            "text/plain": [
              "<matplotlib.figure.Figure at 0x7fa2e6614208>"
            ]
          },
          "metadata": {
            "tags": []
          }
        }
      ]
    },
    {
      "metadata": {
        "id": "Fp-KFCtpvpIN",
        "colab_type": "text"
      },
      "cell_type": "markdown",
      "source": [
        "Aqui encontramos que hay una columna extra pero se llama *label*<br>Label tiene el valor de 0 a 9 representando el dibujo. El promedio siendo 4.456<br>Para no confundirnos vamos a **separar** el label del dataset\n"
      ]
    },
    {
      "metadata": {
        "id": "wRAp4kGMrv-4",
        "colab_type": "text"
      },
      "cell_type": "markdown",
      "source": [
        "## Deep Learning"
      ]
    },
    {
      "metadata": {
        "id": "IjM1s50lFiKu",
        "colab_type": "code",
        "colab": {}
      },
      "cell_type": "code",
      "source": [
        "import numpy as np\n",
        "import pandas as pd\n",
        "\n",
        "import tensorflow as tf\n",
        "\n",
        "# Parameters\n",
        "LEARNING_RATE = 0.001\n",
        "TRAINING_EPOCHS = 3000\n",
        "BATCH_SIZE = 100\n",
        "DISPLAY_STEP = 10\n",
        "DROPOUT_CONV = 0.8\n",
        "DROPOUT_HIDDEN = 0.6\n",
        "VALIDATION_SIZE = 2000      # Set to 0 to train on all available data\n"
      ],
      "execution_count": 0,
      "outputs": []
    },
    {
      "metadata": {
        "id": "Xa8ZCeSxHohc",
        "colab_type": "code",
        "colab": {}
      },
      "cell_type": "code",
      "source": [
        "data = pd.read_csv('train.csv')"
      ],
      "execution_count": 0,
      "outputs": []
    },
    {
      "metadata": {
        "id": "TKZUjyB1401c",
        "colab_type": "code",
        "colab": {}
      },
      "cell_type": "code",
      "source": [
        "label = train[['label']].values.ravel()"
      ],
      "execution_count": 0,
      "outputs": []
    },
    {
      "metadata": {
        "id": "gw1AY3q149ze",
        "colab_type": "code",
        "colab": {
          "base_uri": "https://localhost:8080/",
          "height": 35
        },
        "outputId": "8303f448-3585-42c1-b025-ead86a3728ea"
      },
      "cell_type": "code",
      "source": [
        "label"
      ],
      "execution_count": 29,
      "outputs": [
        {
          "output_type": "execute_result",
          "data": {
            "text/plain": [
              "array([1, 0, 1, ..., 7, 6, 9])"
            ]
          },
          "metadata": {
            "tags": []
          },
          "execution_count": 29
        }
      ]
    },
    {
      "metadata": {
        "id": "BK_5e6Eb5oX2",
        "colab_type": "text"
      },
      "cell_type": "markdown",
      "source": [
        "Lo volvimos un array para poder manipularlo con tenserflow<br>\n",
        "Tambien sacamos los diferentes variedades de labels que tienen"
      ]
    },
    {
      "metadata": {
        "id": "wy23IGsk6Fek",
        "colab_type": "code",
        "colab": {}
      },
      "cell_type": "code",
      "source": [
        "NumDelabels = np.unique(label).shape[0]"
      ],
      "execution_count": 0,
      "outputs": []
    },
    {
      "metadata": {
        "id": "YfrDLVnh6PxC",
        "colab_type": "code",
        "colab": {
          "base_uri": "https://localhost:8080/",
          "height": 35
        },
        "outputId": "4595b69e-b51b-4651-92a6-20379e7a5407"
      },
      "cell_type": "code",
      "source": [
        "NumDelabels"
      ],
      "execution_count": 31,
      "outputs": [
        {
          "output_type": "execute_result",
          "data": {
            "text/plain": [
              "10"
            ]
          },
          "metadata": {
            "tags": []
          },
          "execution_count": 31
        }
      ]
    },
    {
      "metadata": {
        "id": "Zj1l5efL9qXu",
        "colab_type": "text"
      },
      "cell_type": "markdown",
      "source": [
        "Ahora vamos a separar los dibujos y ponerlos en un array"
      ]
    },
    {
      "metadata": {
        "id": "TO4cKE0E9puR",
        "colab_type": "code",
        "colab": {}
      },
      "cell_type": "code",
      "source": [
        "dibujo = train.iloc[:,1:].values\n",
        "dibujo = dibujo.astype(np.float)"
      ],
      "execution_count": 0,
      "outputs": []
    },
    {
      "metadata": {
        "id": "1K5Y65n69yn8",
        "colab_type": "code",
        "colab": {
          "base_uri": "https://localhost:8080/",
          "height": 141
        },
        "outputId": "32c9e26e-adbb-4001-c0c2-ad7c0254f10b"
      },
      "cell_type": "code",
      "source": [
        "dibujo"
      ],
      "execution_count": 33,
      "outputs": [
        {
          "output_type": "execute_result",
          "data": {
            "text/plain": [
              "array([[0., 0., 0., ..., 0., 0., 0.],\n",
              "       [0., 0., 0., ..., 0., 0., 0.],\n",
              "       [0., 0., 0., ..., 0., 0., 0.],\n",
              "       ...,\n",
              "       [0., 0., 0., ..., 0., 0., 0.],\n",
              "       [0., 0., 0., ..., 0., 0., 0.],\n",
              "       [0., 0., 0., ..., 0., 0., 0.]])"
            ]
          },
          "metadata": {
            "tags": []
          },
          "execution_count": 33
        }
      ]
    },
    {
      "metadata": {
        "id": "Gds2qX8K-JBd",
        "colab_type": "text"
      },
      "cell_type": "markdown",
      "source": [
        "Por simplisidad lo queremos volver en un arreglo pero con la etiqueta como etiqueta\n",
        "\n",
        "```\n",
        "0: [0,0,0,0,0,0,0,...,0]\n",
        "1: [0,0,0,0,0,0,0,...,0]\n",
        "2: [0,0,0,0,0,0,0,...,0]\n",
        "3: [0,0,0,0,0,0,0,...,0]\n",
        "4: [0,0,0,0,0,0,0,...,0]\n",
        "5: [0,0,0,0,0,0,0,...,0]\n",
        "```\n",
        "\n"
      ]
    },
    {
      "metadata": {
        "id": "oRRanzWm-A0g",
        "colab_type": "code",
        "colab": {}
      },
      "cell_type": "code",
      "source": [
        "def dense_to_one_hot(labels_dense, num_classes):\n",
        "    num_labels = labels_dense.shape[0]\n",
        "    index_offset = np.arange(num_labels) * num_classes\n",
        "    labels_one_hot = np.zeros((num_labels, num_classes))\n",
        "    labels_one_hot.flat[index_offset + labels_dense.ravel()] = 1\n",
        "    return labels_one_hot"
      ],
      "execution_count": 0,
      "outputs": []
    },
    {
      "metadata": {
        "id": "FHpFl5dqFImZ",
        "colab_type": "code",
        "colab": {}
      },
      "cell_type": "code",
      "source": [
        "labels = dense_to_one_hot(label, NumDelabels)\n",
        "labels = labels.astype(np.uint8)"
      ],
      "execution_count": 0,
      "outputs": []
    },
    {
      "metadata": {
        "id": "tWlJ_atb_7-X",
        "colab_type": "text"
      },
      "cell_type": "markdown",
      "source": [
        "Normalizamos los datos de 0 - 255 ahora va a ser de 0.0 a 1.0"
      ]
    },
    {
      "metadata": {
        "id": "CAIe8ouf_415",
        "colab_type": "code",
        "colab": {}
      },
      "cell_type": "code",
      "source": [
        "dibujo = np.multiply(images, 1.0 / 255.0)\n",
        "NumDedibujo = dibujo.shape[1]\n",
        "dibujoRow = dibujoCol = np.ceil(np.sqrt(NumDedibujo)).astype(np.uint8)"
      ],
      "execution_count": 0,
      "outputs": []
    },
    {
      "metadata": {
        "id": "odNlJMFw1jC4",
        "colab_type": "text"
      },
      "cell_type": "markdown",
      "source": [
        "---\n",
        "Analizando **sample**:"
      ]
    },
    {
      "metadata": {
        "id": "UmvuJWpv1Mwf",
        "colab_type": "code",
        "colab": {
          "base_uri": "https://localhost:8080/",
          "height": 52
        },
        "outputId": "a58e30fc-60e1-41a7-96f8-fcce5ba26187"
      },
      "cell_type": "code",
      "source": [
        "print('(filas, columnas)')\n",
        "sample.shape"
      ],
      "execution_count": 36,
      "outputs": [
        {
          "output_type": "stream",
          "text": [
            "(filas, columnas)\n"
          ],
          "name": "stdout"
        },
        {
          "output_type": "execute_result",
          "data": {
            "text/plain": [
              "(28000, 2)"
            ]
          },
          "metadata": {
            "tags": []
          },
          "execution_count": 36
        }
      ]
    },
    {
      "metadata": {
        "id": "emc99D-x2CTZ",
        "colab_type": "code",
        "colab": {
          "base_uri": "https://localhost:8080/",
          "height": 70
        },
        "outputId": "e2a6e637-1d55-49d5-9b39-4cf7d2fcfdd1"
      },
      "cell_type": "code",
      "source": [
        "sample.dtypes"
      ],
      "execution_count": 37,
      "outputs": [
        {
          "output_type": "execute_result",
          "data": {
            "text/plain": [
              "ImageId    int64\n",
              "Label      int64\n",
              "dtype: object"
            ]
          },
          "metadata": {
            "tags": []
          },
          "execution_count": 37
        }
      ]
    },
    {
      "metadata": {
        "id": "Zts8l-zF2pb7",
        "colab_type": "text"
      },
      "cell_type": "markdown",
      "source": [
        "Tiene dos variables y 28000 registros. Los dos son enteros"
      ]
    },
    {
      "metadata": {
        "id": "Ucmn76vQ2Jij",
        "colab_type": "code",
        "colab": {
          "base_uri": "https://localhost:8080/",
          "height": 291
        },
        "outputId": "87550774-6223-4b8f-8426-9b52d7d33185"
      },
      "cell_type": "code",
      "source": [
        "sample.describe()"
      ],
      "execution_count": 38,
      "outputs": [
        {
          "output_type": "execute_result",
          "data": {
            "text/html": [
              "<div>\n",
              "<style scoped>\n",
              "    .dataframe tbody tr th:only-of-type {\n",
              "        vertical-align: middle;\n",
              "    }\n",
              "\n",
              "    .dataframe tbody tr th {\n",
              "        vertical-align: top;\n",
              "    }\n",
              "\n",
              "    .dataframe thead th {\n",
              "        text-align: right;\n",
              "    }\n",
              "</style>\n",
              "<table border=\"1\" class=\"dataframe\">\n",
              "  <thead>\n",
              "    <tr style=\"text-align: right;\">\n",
              "      <th></th>\n",
              "      <th>ImageId</th>\n",
              "      <th>Label</th>\n",
              "    </tr>\n",
              "  </thead>\n",
              "  <tbody>\n",
              "    <tr>\n",
              "      <th>count</th>\n",
              "      <td>28000.000000</td>\n",
              "      <td>28000.0</td>\n",
              "    </tr>\n",
              "    <tr>\n",
              "      <th>mean</th>\n",
              "      <td>14000.500000</td>\n",
              "      <td>0.0</td>\n",
              "    </tr>\n",
              "    <tr>\n",
              "      <th>std</th>\n",
              "      <td>8083.048105</td>\n",
              "      <td>0.0</td>\n",
              "    </tr>\n",
              "    <tr>\n",
              "      <th>min</th>\n",
              "      <td>1.000000</td>\n",
              "      <td>0.0</td>\n",
              "    </tr>\n",
              "    <tr>\n",
              "      <th>25%</th>\n",
              "      <td>7000.750000</td>\n",
              "      <td>0.0</td>\n",
              "    </tr>\n",
              "    <tr>\n",
              "      <th>50%</th>\n",
              "      <td>14000.500000</td>\n",
              "      <td>0.0</td>\n",
              "    </tr>\n",
              "    <tr>\n",
              "      <th>75%</th>\n",
              "      <td>21000.250000</td>\n",
              "      <td>0.0</td>\n",
              "    </tr>\n",
              "    <tr>\n",
              "      <th>max</th>\n",
              "      <td>28000.000000</td>\n",
              "      <td>0.0</td>\n",
              "    </tr>\n",
              "  </tbody>\n",
              "</table>\n",
              "</div>"
            ],
            "text/plain": [
              "            ImageId    Label\n",
              "count  28000.000000  28000.0\n",
              "mean   14000.500000      0.0\n",
              "std     8083.048105      0.0\n",
              "min        1.000000      0.0\n",
              "25%     7000.750000      0.0\n",
              "50%    14000.500000      0.0\n",
              "75%    21000.250000      0.0\n",
              "max    28000.000000      0.0"
            ]
          },
          "metadata": {
            "tags": []
          },
          "execution_count": 38
        }
      ]
    },
    {
      "metadata": {
        "id": "4DX1z7x92nlv",
        "colab_type": "text"
      },
      "cell_type": "markdown",
      "source": [
        "Label siempre va a tener el valor de 0 ya que el valor máximo y mínimo encontrado es 0. <br>\n",
        "Image Id parece ser el id de la imagen que es un contador que empieza en 1 y termina en 28 mil."
      ]
    },
    {
      "metadata": {
        "id": "dVBdZGK3yJ_x",
        "colab_type": "text"
      },
      "cell_type": "markdown",
      "source": [
        ""
      ]
    },
    {
      "metadata": {
        "id": "eve9fwlnrv-8",
        "colab_type": "text"
      },
      "cell_type": "markdown",
      "source": [
        "## Otro Algoritmo\n",
        "\n",
        "Algoritmo escogido en: http://yann.lecun.com/exdb/mnist/ "
      ]
    },
    {
      "metadata": {
        "id": "FCAwgCkJ1T28",
        "colab_type": "text"
      },
      "cell_type": "markdown",
      "source": [
        "Graficas para usar despues\n",
        "\n",
        "```\n",
        "x=seasonSummary['2P']\n",
        "y=seasonSummary['eff']\n",
        "plt.scatter(x, y)\n",
        "plt.xlabel('2P')\n",
        "plt.ylabel('eff')\n",
        "z = np.polyfit(x, y, 1)\n",
        "p = np.poly1d(z)\n",
        "plt.plot(x,p(x),\"r--\")\n",
        "plt.show()\n",
        "\n",
        "\n",
        "print (\"Sesgado :\", train.skew())\n",
        "plt.hist(np.log(train), color='blue')\n",
        "plt.show()\n",
        "```\n",
        "\n"
      ]
    }
  ]
}